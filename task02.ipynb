{
 "cells": [
  {
   "cell_type": "markdown",
   "metadata": {},
   "source": [
    "## task02  基于医疗知识图谱的问答系统操作介绍\n",
    "20210111 created    基于医疗知识图谱的问答系统操作介绍\n",
    "这个notebook是参加 DataWhale 组织的<知识图谱组队学习>的学习笔记.      \n",
    "原始的开源学习项目地址:     \n",
    "https://github.com/datawhalechina/team-learning-nlp/tree/master/KnowledgeGraph_Basic"
   ]
  },
  {
   "cell_type": "markdown",
   "metadata": {},
   "source": [
    "## 一、引言\n",
    "\n",
    "- 该项目主要分为两部分：\n",
    "  - 第一部分：搭建知识图谱。该部分的具体讲解将在 [ Datawhale 知识图谱组队学习 之 Task 3 Neo4j图数据库导入数据](task03.md)进行介绍；\n",
    "  - 第二部分：启动问答测试。构建一个简单的基于 知识图谱 的对话系统，该部分的具体讲解将在 [Datawhale 知识图谱组队学习 之 Task 4 用户输入->知识库的查询语句 ](task04.md) 和 [Datawhale 知识图谱组队学习 之 Task 5 Neo4j 图数据库查询 ](task05.md) 进行分别介绍；\n",
    "\n",
    "- 本节的核心目标是 从 全局对项目的运行过程进行介绍和讲解；学习者能够跑通整个项目。\n"
   ]
  },
  {
   "cell_type": "markdown",
   "metadata": {},
   "source": [
    "## 二、运行环境\n",
    "\n",
    "- python3.0及以上\n",
    "- neo4j 3.5.0及以上\n",
    "- jdk 1.8.0\n"
   ]
  },
  {
   "cell_type": "markdown",
   "metadata": {},
   "source": [
    "## 三、搭建知识图谱\n",
    "\n",
    "> 运行该过程，请确保已经安装好 neo4j 和 jdk\n",
    "\n",
    "运行 以下命令：\n",
    "\n",
    "```s\n",
    "    python build_graph.py \n",
    "```\n",
    "\n",
    "> 注：由于数据量比较大，所以该过程需要运行几个小时 \n",
    "\n",
    "运行介绍之后，打开浏览器进入网址：[http://localhost:7474/browser/](http://localhost:7474/browser/)，可以看到我们导入的数据的知识图谱，如下：\n",
    "\n",
    "![图片.png](assets/展示图.jpg)\n",
    "> 图 9 知识图谱 展示图\n"
   ]
  },
  {
   "cell_type": "markdown",
   "metadata": {},
   "source": [
    "## 四、启动问答测试\n",
    "\n",
    "运行 以下命令：\n",
    "\n",
    "```s\n",
    "    python kbqa_test.py\n",
    "```\n",
    "\n",
    "运行结果如下图所示：\n",
    "\n",
    "![图片.png](assets/20201228191301.png)\n"
   ]
  },
  {
   "cell_type": "markdown",
   "metadata": {},
   "source": [
    "\n",
    "### 五、代码目录介绍\n",
    "- data:存放数据\n",
    "- img:存放readme里的图片\n",
    "- model：存放训练好的tfidf模型和意图识别模型\n",
    "- build_graph.py:构建图，详见task03\n",
    "- entity_extractor.py:抽取问句中的实体和识别意图，详见task04\n",
    "- search_answer.py:根据不同的实体和意图构造cypher查询语句,查询图数据库并返回答案，详见task05\n",
    "\n"
   ]
  },
  {
   "cell_type": "markdown",
   "metadata": {},
   "source": [
    "## 参考资料 \n",
    "\n",
    "1. [QASystemOnMedicalGraph](https://github.com/zhihao-chen/QASystemOnMedicalGraph)"
   ]
  },
  {
   "cell_type": "markdown",
   "metadata": {},
   "source": []
  },
  {
   "cell_type": "markdown",
   "metadata": {},
   "source": []
  },
  {
   "cell_type": "markdown",
   "metadata": {},
   "source": []
  },
  {
   "cell_type": "markdown",
   "metadata": {},
   "source": []
  },
  {
   "cell_type": "markdown",
   "metadata": {},
   "source": []
  },
  {
   "cell_type": "markdown",
   "metadata": {},
   "source": []
  },
  {
   "cell_type": "markdown",
   "metadata": {},
   "source": []
  },
  {
   "cell_type": "markdown",
   "metadata": {},
   "source": []
  },
  {
   "cell_type": "markdown",
   "metadata": {},
   "source": []
  },
  {
   "cell_type": "markdown",
   "metadata": {},
   "source": []
  },
  {
   "cell_type": "markdown",
   "metadata": {},
   "source": []
  },
  {
   "cell_type": "markdown",
   "metadata": {},
   "source": []
  },
  {
   "cell_type": "code",
   "execution_count": null,
   "metadata": {},
   "outputs": [],
   "source": []
  }
 ],
 "metadata": {
  "kernelspec": {
   "display_name": "Python 3",
   "language": "python",
   "name": "python3"
  },
  "language_info": {
   "codemirror_mode": {
    "name": "ipython",
    "version": 3
   },
   "file_extension": ".py",
   "mimetype": "text/x-python",
   "name": "python",
   "nbconvert_exporter": "python",
   "pygments_lexer": "ipython3",
   "version": "3.8.3"
  }
 },
 "nbformat": 4,
 "nbformat_minor": 4
}
