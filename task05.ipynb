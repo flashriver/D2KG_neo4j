{
 "cells": [
  {
   "cell_type": "markdown",
   "metadata": {},
   "source": [
    "## task05  Neo4j 图数据库查询\n",
    "20210111 created    \n",
    "这个notebook是参加 DataWhale 组织的<知识图谱组队学习>的学习笔记.      \n",
    "原始的开源学习项目地址:     \n",
    "https://github.com/datawhalechina/team-learning-nlp/tree/master/KnowledgeGraph_Basic"
   ]
  },
  {
   "cell_type": "markdown",
   "metadata": {},
   "source": [
    "## 一、 Neo4介绍\n",
    "\n",
    "1. Neo4j是一个世界领先的开源图形数据库，由Java编写。图形数据库也就意味着它的数据并非保存在表或集合中，而是保存为节点以及节点之间的关系；\n",
    "2. Neo4j的数据由下面3部分构成：节点边和属性；\n",
    "3. Neo4j除了顶点（Node）和边（Relationship），还有一种重要的部分——属性。无论是顶点还是边，都可以有任意多的属性。属性的存放类似于一个HashMap，Key为一个字符串，而Value必须是基本类型或者是基本类型数组。\n",
    "\n",
    "在Neo4j中，节点以及边都能够包含保存值的属性，此外：可以为节点设置零或多个标签（例如Author或Book）每个关系都对应一种类型（例如WROTE或FRIEND_OF）关系总是从一个节点指向另一个节点（但可以在不考虑指向性的情况下进行查询）\n"
   ]
  },
  {
   "cell_type": "markdown",
   "metadata": {},
   "source": [
    "## 二、 Neo4j 介绍"
   ]
  },
  {
   "cell_type": "markdown",
   "metadata": {},
   "source": [
    "### 2.1 Cypher 介绍\n",
    "\n",
    "- Cypher 介绍：作为Neo4j的查询语言，“Cypher”是一个描述性的图形查询语言，允许不必编写图形结构的遍历代码对图形存储有表现力和效率的查询。Cypher还在继续发展和成熟，这也就意味着有可能会出现语法的变化。同时也意味着作为组件没有经历严格的性能测试。\n",
    "- 设计的目的：一个人类查询语言，适合于开发者和在数据库上做点对点模式（ad-hoc）查询的专业操作人员（我认为这个很重要）。它的构念是基于英语单词和灵巧的图解。\n",
    "- 思路：Cyper通过一系列不同的方法和建立于确定的实践为表达查询而激发的。许多关键字如like和order by是受SQL的启发。模式匹配的表达式来自于SPARQL。正则表达式匹配实现实用Scala programming language语言。\n",
    "- 与命令式语言的区别：Cypher是一个申明式的语言。对比命令式语言如Java和脚本语言如Gremlin和JRuby，它的焦点在于从图中如何找回（what to retrieve），而不是怎么去做。这使得在不对用户公布的实现细节里关心的是怎么优化查询。"
   ]
  },
  {
   "cell_type": "markdown",
   "metadata": {},
   "source": [
    "### 2.2 Neo4j 图数据库 查询\n",
    "\n",
    "1. 连接neo4j数据库之后，在浏览器中使用 http://localhost:7474/browser/ 网址查看数据库，初始账户跟密码都是neo4j\n",
    "2. 首先查看图数据库\n",
    "   \n",
    "![展示图](./assets/展示图2.jpg) \n",
    "> 图 1 展示图 1\n",
    "![展示图](./assets/展示图.jpg) \n",
    "> 图 2 展示图 2\n",
    "\n",
    "3. 导入的数据的知识图谱\n",
    "\n",
    "![图谱类型](./assets/种类.png)\n",
    "> 图 3 图谱类型\n",
    "\n",
    "1. 我们首先查询症状：输入语句：\n",
    "\n",
    "```s\n",
    "    MATCH (d:Disease)-[:HAS_SYMPTOM]->(s) WHERE d.name='糖尿病' RETURN d.name,s.name\n",
    "```\n",
    "\n",
    "> 返回可以是Table,Text,跟code\n",
    "\n",
    "![Table](./assets/table.jpg)\n",
    "> 图 4 查询结果 表格展示\n",
    "![Text](./assets/Text.png)\n",
    "> 图 5 查询结果 文本展示\n",
    "![Code](./assets/code.jpg)\n",
    "> 图 6 查询结果 代码展示\n"
   ]
  },
  {
   "cell_type": "markdown",
   "metadata": {},
   "source": [
    "## 三、 基于知识图谱的问题系统 主体类 AnswerSearching 框架介绍\n",
    "\n",
    "```python\n",
    "class AnswerSearching:\n",
    "    def __init__(self):\n",
    "        pass\n",
    "    # 主要是根据不同的实体和意图构造cypher查询语句\n",
    "    def question_parser(self, data):\n",
    "        \"\"\"\n",
    "        主要是根据不同的实体和意图构造cypher查询语句\n",
    "        :param data: {\"Disease\":[], \"Alias\":[], \"Symptom\":[], \"Complication\":[]}\n",
    "        :return:\n",
    "        \"\"\"\n",
    "        pass\n",
    "    # 将问题转变为cypher查询语句\n",
    "    def transfor_to_sql(self, label, entities, intent):\n",
    "        \"\"\"\n",
    "        将问题转变为cypher查询语句\n",
    "        :param label:实体标签\n",
    "        :param entities:实体列表\n",
    "        :param intent:查询意图\n",
    "        :return:cypher查询语句\n",
    "        \"\"\"\n",
    "        pass\n",
    "    # 执行cypher查询，返回结果\n",
    "    def searching(self, sqls):\n",
    "        \"\"\"\n",
    "        执行cypher查询，返回结果\n",
    "        :param sqls:\n",
    "        :return:str\n",
    "        \"\"\"\n",
    "        pass\n",
    "    # 根据不同意图，返回不同模板的答案\n",
    "    def answer_template(self, intent, answers):\n",
    "        \"\"\"\n",
    "        根据不同意图，返回不同模板的答案\n",
    "        :param intent: 查询意图\n",
    "        :param answers: 知识图谱查询结果\n",
    "        :return: str\n",
    "        \"\"\"\n",
    "        pass\n",
    "\n",
    "```\n"
   ]
  },
  {
   "cell_type": "markdown",
   "metadata": {},
   "source": [
    "## 四、 代码分模块介绍\n",
    "\n",
    "1. 在Python中我们使用py2neo进行查询\n",
    "2. 首先安装py2neo,pip install py2neo\n",
    "3. 连接上neo4j数据库\n",
    "```python\n",
    "    from py2neo import Graph \n",
    "    graph = Graph(\"http://localhost:7474\", username=\"neo4j\", password=\"neo4j\")\n",
    "```\n",
    "4. 根据不同的实体和意图构造cypher查询语句\n",
    "```python\n",
    "    def question_parser(data):\n",
    "        \"\"\"\n",
    "        主要是根据不同的实体和意图构造cypher查询语句\n",
    "        :param data: {\"Disease\":[], \"Alias\":[], \"Symptom\":[], \"Complication\":[]}\n",
    "        :return:\n",
    "        \"\"\"\n",
    "        sqls = []\n",
    "        if data:\n",
    "            for intent in data[\"intentions\"]:\n",
    "                sql_ = {}\n",
    "                sql_[\"intention\"] = intent\n",
    "                sql = []\n",
    "                if data.get(\"Disease\"):\n",
    "                   sql = transfor_to_sql(\"Disease\", data[\"Disease\"], intent)\n",
    "                elif data.get(\"Alias\"):\n",
    "                    sql = transfor_to_sql(\"Alias\", data[\"Alias\"], intent)\n",
    "                elif data.get(\"Symptom\"):\n",
    "                    sql = transfor_to_sql(\"Symptom\", data[\"Symptom\"], intent)\n",
    "                elif data.get(\"Complication\"):\n",
    "                    sql = transfor_to_sql(\"Complication\", data[\"Complication\"], intent)\n",
    "\n",
    "                if sql:\n",
    "                    sql_['sql'] = sql\n",
    "                    sqls.append(sql_)\n",
    "        return sql\n",
    "```\n",
    "5. 将问题转变为cypher查询语句\n",
    "```python\n",
    "    def transfor_to_sql(label, entities, intent):\n",
    "        \"\"\"\n",
    "        将问题转变为cypher查询语句\n",
    "        :param label:实体标签\n",
    "        :param entities:实体列表\n",
    "        :param intent:查询意图\n",
    "        :return:cypher查询语句\n",
    "        \"\"\"\n",
    "        if not entities:\n",
    "            return []\n",
    "        sql = []\n",
    "\n",
    "        # 查询症状\n",
    "        if intent == \"query_symptom\" and label == \"Disease\":\n",
    "            sql = [\"MATCH (d:Disease)-[:HAS_SYMPTOM]->(s) WHERE d.name='{0}' RETURN d.name,s.name\".format(e)\n",
    "                   for e in entities]\n",
    "        # 查询治疗方法\n",
    "        if intent == \"query_cureway\" and label == \"Disease\":\n",
    "            sql = [\"MATCH (d:Disease)-[:HAS_DRUG]->(n) WHERE d.name='{0}' return d.name,d.treatment,\" \\\n",
    "                   \"n.name\".format(e) for e in entities]\n",
    "         # 查询治疗周期\n",
    "        if intent == \"query_period\" and label == \"Disease\":\n",
    "            sql = [\"MATCH (d:Disease) WHERE d.name='{0}' return d.name,d.period\".format(e) for e in entities\n",
    "        ...\n",
    "```\n",
    "6. 执行cypher查询，返回结果\n",
    "```python\n",
    "    def searching(sqls):\n",
    "        \"\"\"\n",
    "        执行cypher查询，返回结果\n",
    "        :param sqls:\n",
    "        :return:str\n",
    "        \"\"\"\n",
    "        final_answers = []\n",
    "        for sql_ in sqls:\n",
    "            intent = sql_['intention']\n",
    "            queries = sql_['sql']\n",
    "            answers = []\n",
    "            for query in queries:\n",
    "                ress = graph.run(query).data()\n",
    "                answers += ress\n",
    "            final_answer = answer_template(intent, answers)\n",
    "            if final_answer:\n",
    "                final_answers.append(final_answer)\n",
    "        return final_answers\n",
    "```\n",
    "7. 根据不同意图，返回不同模板的答案\n",
    "```python\n",
    "    def answer_template(intent, answers):\n",
    "        \"\"\"\n",
    "        根据不同意图，返回不同模板的答案\n",
    "        :param intent: 查询意图\n",
    "        :param answers: 知识图谱查询结果\n",
    "        :return: str\n",
    "        \"\"\"\n",
    "        final_answer = \"\"\n",
    "        if not answers:\n",
    "            return \"\"\n",
    "        # 查询症状\n",
    "        if intent == \"query_symptom\":\n",
    "            disease_dic = {}\n",
    "            for data in answers:\n",
    "                d = data['d.name']\n",
    "                s = data['s.name']\n",
    "                if d not in disease_dic:\n",
    "                    disease_dic[d] = [s]\n",
    "                else:\n",
    "                    disease_dic[d].append(s)\n",
    "            i = 0\n",
    "            for k, v in disease_dic.items():\n",
    "                if i >= 10:\n",
    "                    break\n",
    "                final_answer += \"疾病 {0} 的症状有：{1}\\n\".format(k, ','.join(list(set(v))))\n",
    "                i += 1\n",
    "            ...\n",
    "```"
   ]
  },
  {
   "cell_type": "markdown",
   "metadata": {},
   "source": []
  },
  {
   "cell_type": "markdown",
   "metadata": {},
   "source": []
  },
  {
   "cell_type": "markdown",
   "metadata": {},
   "source": []
  },
  {
   "cell_type": "markdown",
   "metadata": {},
   "source": []
  },
  {
   "cell_type": "markdown",
   "metadata": {},
   "source": []
  },
  {
   "cell_type": "markdown",
   "metadata": {},
   "source": []
  },
  {
   "cell_type": "markdown",
   "metadata": {},
   "source": []
  },
  {
   "cell_type": "markdown",
   "metadata": {},
   "source": []
  },
  {
   "cell_type": "markdown",
   "metadata": {},
   "source": []
  },
  {
   "cell_type": "markdown",
   "metadata": {},
   "source": []
  },
  {
   "cell_type": "markdown",
   "metadata": {},
   "source": []
  },
  {
   "cell_type": "markdown",
   "metadata": {},
   "source": [
    "## 参考资料 \n",
    "\n",
    "1. [ QASystemOnMedicalGraph](https://github.com/zhihao-chen/QASystemOnMedicalGraph)"
   ]
  },
  {
   "cell_type": "code",
   "execution_count": null,
   "metadata": {},
   "outputs": [],
   "source": []
  },
  {
   "cell_type": "code",
   "execution_count": null,
   "metadata": {},
   "outputs": [],
   "source": []
  }
 ],
 "metadata": {
  "kernelspec": {
   "display_name": "Python 3",
   "language": "python",
   "name": "python3"
  },
  "language_info": {
   "codemirror_mode": {
    "name": "ipython",
    "version": 3
   },
   "file_extension": ".py",
   "mimetype": "text/x-python",
   "name": "python",
   "nbconvert_exporter": "python",
   "pygments_lexer": "ipython3",
   "version": "3.8.3"
  }
 },
 "nbformat": 4,
 "nbformat_minor": 4
}
