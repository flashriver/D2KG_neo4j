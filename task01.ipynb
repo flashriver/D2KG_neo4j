{
 "cells": [
  {
   "cell_type": "markdown",
   "metadata": {},
   "source": [
    "## task01  知识图谱介绍\n",
    "20210109 created    \n",
    "这个notebook是参加 DataWhale 组织的<知识图谱组队学习>的学习笔记.      \n",
    "原始的开源学习项目地址:     \n",
    "https://github.com/datawhalechina/team-learning-nlp/tree/master/KnowledgeGraph_Basic"
   ]
  },
  {
   "cell_type": "markdown",
   "metadata": {},
   "source": []
  },
  {
   "cell_type": "markdown",
   "metadata": {},
   "source": []
  },
  {
   "cell_type": "markdown",
   "metadata": {},
   "source": []
  },
  {
   "cell_type": "markdown",
   "metadata": {},
   "source": []
  },
  {
   "cell_type": "markdown",
   "metadata": {},
   "source": []
  },
  {
   "cell_type": "markdown",
   "metadata": {},
   "source": []
  },
  {
   "cell_type": "markdown",
   "metadata": {},
   "source": []
  },
  {
   "cell_type": "markdown",
   "metadata": {},
   "source": []
  },
  {
   "cell_type": "markdown",
   "metadata": {},
   "source": []
  },
  {
   "cell_type": "markdown",
   "metadata": {},
   "source": []
  },
  {
   "cell_type": "markdown",
   "metadata": {},
   "source": []
  },
  {
   "cell_type": "markdown",
   "metadata": {},
   "source": []
  },
  {
   "cell_type": "markdown",
   "metadata": {},
   "source": []
  },
  {
   "cell_type": "markdown",
   "metadata": {},
   "source": []
  },
  {
   "cell_type": "markdown",
   "metadata": {},
   "source": []
  },
  {
   "cell_type": "markdown",
   "metadata": {},
   "source": []
  },
  {
   "cell_type": "markdown",
   "metadata": {},
   "source": []
  },
  {
   "cell_type": "markdown",
   "metadata": {},
   "source": []
  },
  {
   "cell_type": "code",
   "execution_count": null,
   "metadata": {},
   "outputs": [],
   "source": []
  },
  {
   "cell_type": "code",
   "execution_count": 1,
   "metadata": {},
   "outputs": [],
   "source": [
    "# step 1：导入 Neo4j 驱动包\n",
    "from neo4j import GraphDatabase"
   ]
  },
  {
   "cell_type": "code",
   "execution_count": 2,
   "metadata": {},
   "outputs": [],
   "source": [
    "# step 2：连接 Neo4j 图数据库\n",
    "driver = GraphDatabase.driver(\"bolt://localhost:7687\", auth=(\"neo4j\", \"TA5HRyd7p6xfQUr\"))"
   ]
  },
  {
   "cell_type": "code",
   "execution_count": 3,
   "metadata": {},
   "outputs": [],
   "source": [
    " # 添加 关系 函数\n",
    "def add_friend(tx, name, friend_name):    \n",
    "    tx.run(\"MERGE (a:Person {name: $name}) \"          \n",
    "           \"MERGE (a)-[:KNOWS]->(friend:Person {name: $friend_name})\",            \n",
    "    name=name, friend_name=friend_name)"
   ]
  },
  {
   "cell_type": "code",
   "execution_count": 5,
   "metadata": {},
   "outputs": [],
   "source": [
    "# 定义 关系函数\n",
    "def print_friends(tx, name):\n",
    "    for record in tx.run(\"MATCH (a:Person)-[:KNOWS]->(friend) WHERE a.name = $name \"\n",
    "                         \"RETURN friend.name ORDER BY friend.name\", name=name):\n",
    "        print(record[\"friend.name\"])"
   ]
  },
  {
   "cell_type": "code",
   "execution_count": 6,
   "metadata": {},
   "outputs": [
    {
     "name": "stdout",
     "output_type": "stream",
     "text": [
      "Guinevere\n",
      "Lancelot\n",
      "Merlin\n"
     ]
    }
   ],
   "source": [
    " # step 3：运行\n",
    "with driver.session() as session:\n",
    "    session.write_transaction(add_friend, \"Arthur\", \"Guinevere\")\n",
    "    session.write_transaction(add_friend, \"Arthur\", \"Lancelot\")\n",
    "    session.write_transaction(add_friend, \"Arthur\", \"Merlin\")\n",
    "    session.read_transaction(print_friends, \"Arthur\")"
   ]
  },
  {
   "cell_type": "code",
   "execution_count": null,
   "metadata": {},
   "outputs": [],
   "source": [
    "6.2 py2neo模块：通过操作python变量，达到操作neo4j的目的\n"
   ]
  },
  {
   "cell_type": "code",
   "execution_count": 10,
   "metadata": {},
   "outputs": [],
   "source": [
    "# step 1：导包\n",
    "from py2neo import Graph, Node, Relationship"
   ]
  },
  {
   "cell_type": "code",
   "execution_count": 14,
   "metadata": {},
   "outputs": [],
   "source": [
    "# step 2：构建图\n",
    "g = Graph(\"http://localhost:7474\", username=\"neo4j\", password=\"TA5HRyd7p6xfQUr\")\n",
    "# 报错--ClientError: [Security.Unauthorized] The client is unauthorized due to authentication failure."
   ]
  },
  {
   "cell_type": "code",
   "execution_count": 15,
   "metadata": {},
   "outputs": [],
   "source": [
    "# step 3：创建节点\n",
    "tx = g.begin()\n",
    "a = Node(\"Person\", name=\"Alice\")\n",
    "tx.create(a)\n",
    "b = Node(\"Person\", name=\"Bob\")"
   ]
  },
  {
   "cell_type": "code",
   "execution_count": 16,
   "metadata": {},
   "outputs": [],
   "source": [
    "# step 4：创建边\n",
    "ab = Relationship(a, \"KNOWS\", b)"
   ]
  },
  {
   "cell_type": "code",
   "execution_count": 17,
   "metadata": {},
   "outputs": [
    {
     "data": {
      "text/plain": [
       "<Bookmark >"
      ]
     },
     "execution_count": 17,
     "metadata": {},
     "output_type": "execute_result"
    }
   ],
   "source": [
    "# step 5：运行\n",
    "tx.create(ab)\n",
    "tx.commit()"
   ]
  },
  {
   "cell_type": "code",
   "execution_count": null,
   "metadata": {},
   "outputs": [],
   "source": []
  },
  {
   "cell_type": "markdown",
   "metadata": {},
   "source": [
    "# 七、通过csv文件批量导入图数据\n",
    "\n",
    "前面学习的是单个创建节点，不适合大批量导入。这里我们介绍使用neo4j-admin import命令导入，适合部署在docker环境下的neo4j。 其他导入方法也可以参考Neo4j之导入数据\n",
    "\n",
    "csv分为两个nodes.csv和relations.csv，注意关系里的起始节点必须是在nodes.csv里能找到的：\n",
    "\n",
    "  # nodes.csv需要指定唯一ID和nam,\n",
    "  headers = [\n",
    "  'unique_id:ID', # 图数据库中节点存储的唯一标识\n",
    "  'name', # 节点展示的名称\n",
    "  'node_type:LABEL', # 节点的类型，比如Person和Location\n",
    "  'property' # 节点的其他属性\n",
    "  ]\n",
    "\n",
    "  # relations.csv\n",
    "  headers = [\n",
    "  'unique_id', # 图数据库中关系存储的唯一标识\n",
    "  'begin_node_id:START_ID', # begin_node和end_node的值来自于nodes.csv中节点\n",
    "  'end_node_id:END_ID',\n",
    "  'begin_node_name',\n",
    "  'end_node_name',\n",
    "  'begin_node_type',\n",
    "  'end_node_type',\n",
    "  'relation_type:TYPE', # 关系的类型，比如Friends和Married\n",
    "  'property' # 关系的其他属性\n",
    "  ]\n",
    "\n",
    "制作出两个csv后，通过以下步骤导入neo4j:\n",
    "\n",
    "    两个文件nodes.csv ，relas.csv放在\n",
    "\n",
    "  neo4j安装绝对路径/import\n",
    "\n",
    "    导入到图数据库mygraph.db\n",
    "\n",
    "  neo4j bin/neo4j-admin import --nodes=/var/lib/neo4j/import/nodes.csv --relationships=/var/lib/neo4j/import/relas.csv   --delimiter=^ --database=xinfang*.db\n",
    "\n",
    "delimiter=^ 指的是csv的分隔符\n",
    "\n",
    "    指定neo4j使用哪个数据库\n",
    "\n",
    "  修改 /root/neo4j/conf/neo4j.conf 文件中的 dbms.default_database=mygraph.db\n",
    "\n",
    "    重启neo4j就可以看到数据已经导入成功了\n"
   ]
  },
  {
   "cell_type": "code",
   "execution_count": null,
   "metadata": {},
   "outputs": [],
   "source": []
  }
 ],
 "metadata": {
  "kernelspec": {
   "display_name": "Python 3",
   "language": "python",
   "name": "python3"
  },
  "language_info": {
   "codemirror_mode": {
    "name": "ipython",
    "version": 3
   },
   "file_extension": ".py",
   "mimetype": "text/x-python",
   "name": "python",
   "nbconvert_exporter": "python",
   "pygments_lexer": "ipython3",
   "version": "3.8.3"
  }
 },
 "nbformat": 4,
 "nbformat_minor": 4
}
